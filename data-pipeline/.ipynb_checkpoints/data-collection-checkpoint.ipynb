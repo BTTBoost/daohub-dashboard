{
 "cells": [
  {
   "cell_type": "code",
   "execution_count": 2,
   "metadata": {},
   "outputs": [],
   "source": [
    "from utils import *"
   ]
  },
  {
   "cell_type": "markdown",
   "metadata": {},
   "source": [
    "### Proposal Collection"
   ]
  },
  {
   "cell_type": "code",
   "execution_count": 3,
   "metadata": {},
   "outputs": [],
   "source": [
    "spaces_df = daoinfo.loc[daoinfo['governance_type']=='Snapshot']"
   ]
  },
  {
   "cell_type": "code",
   "execution_count": 7,
   "metadata": {},
   "outputs": [
    {
     "data": {
      "text/plain": [
       "'0xb93ef13c7f48841d50191124a6e76c3bdd099edc501b6325a495ee70db77fe5a'"
      ]
     },
     "execution_count": 7,
     "metadata": {},
     "output_type": "execute_result"
    }
   ],
   "source": [
    "proposals[0]['id']"
   ]
  },
  {
   "cell_type": "code",
   "execution_count": 14,
   "metadata": {
    "collapsed": true,
    "jupyter": {
     "outputs_hidden": true
    }
   },
   "outputs": [
    {
     "name": "stdout",
     "output_type": "stream",
     "text": [
      "Status: 200\n",
      "banklessvault.eth 32\n",
      "Status: 200\n",
      "friendswithbenefits.eth 38\n",
      "Status: 200\n",
      "olympusdao.eth 193\n",
      "Status: 200\n",
      "daocity.eth 26\n",
      "Status: 200\n",
      "gitcoindao.eth 51\n",
      "Status: 200\n",
      "freerossdao.eth 6\n",
      "Status: 200\n",
      "pleasrdao.eth 52\n",
      "Status: 200\n",
      "klimadao.eth 21\n",
      "Status: 200\n",
      "index-coop.eth 357\n",
      "Status: 200\n",
      "tomoondao.eth 11\n",
      "Status: 200\n",
      "uniswap 54\n",
      "Status: 200\n",
      "shapeshiftdao.eth 65\n",
      "Status: 200\n",
      "aave.eth 100\n",
      "Status: 200\n",
      "ffdao.eth 7\n",
      "Status: 200\n",
      "ens.eth 22\n",
      "Status: 200\n",
      "badgerdao.eth 89\n",
      "Status: 200\n",
      "nouns.eth 13\n",
      "Status: 200\n",
      "squiggledao.eth 26\n",
      "Status: 200\n",
      "tracer.eth 39\n",
      "Status: 200\n",
      "gdao.eth 18\n",
      "Status: 200\n",
      "stakeborgdao.eth 0\n",
      "Status: 200\n",
      "gov.radicle.eth 8\n",
      "Status: 200\n",
      "metacartel.eth 1\n",
      "Status: 200\n",
      "bitdao.eth 6\n",
      "Status: 200\n",
      "partydao.eth 13\n",
      "Status: 200\n",
      "jbdao.eth 120\n"
     ]
    }
   ],
   "source": [
    "total_proposals_by_dao = []\n",
    "proposals = []\n",
    "for index, row in spaces_df.iterrows():\n",
    "    space = row['governance']\n",
    "    dao_id = row['dao_id']\n",
    "    ps = request_proposals(space)\n",
    "    total_proposals = len(ps)\n",
    "    total_proposals_by_dao.append([dao_id, total_proposals])\n",
    "    print(space, total_proposals)\n",
    "    for p in ps:\n",
    "#         try:\n",
    "#         print(p)\n",
    "        data = [dao_id, \n",
    "                p['id'], \n",
    "                p['type'], \n",
    "                p['title'], \n",
    "                p['body'], \n",
    "                p['choices'], \n",
    "                p['start'], \n",
    "                p['end'], \n",
    "                p['snapshot'], \n",
    "                p['state'], \n",
    "                p['author'], \n",
    "                p['space']['id'], \n",
    "                p['space']['name']]\n",
    "        proposals.append(data)\n",
    "#         except:\n",
    "#             print(p)\n"
   ]
  },
  {
   "cell_type": "code",
   "execution_count": 18,
   "metadata": {},
   "outputs": [],
   "source": [
    "colnames_proposal = ['dao_id', 'proposal_id', 'proposal_type', 'proposal_title', 'proposal_body', 'proposal_choices', 'proposal_start', 'proposal_end', 'proposal_block_level', 'proposal_state', 'proposal_author', 'snapshot_space_id', 'snapshot_space_name']\n",
    "proposal_df = pd.DataFrame(proposals, columns=colnames_proposal)\n",
    "proposal_df.to_csv('../data/snapshot_proposals.csv', index=False)\n",
    "\n",
    "colnames_total_proposals_by_dao = ['dao_id', 'total_proposals']\n",
    "total_proposals_by_dao_df = pd.DataFrame(total_proposals_by_dao, columns=colnames_total_proposals_by_dao)\n",
    "total_proposals_by_dao_df.to_csv('../data/total_proposals_by_dao.csv', index=False)"
   ]
  },
  {
   "cell_type": "markdown",
   "metadata": {},
   "source": [
    "### Vote Collection"
   ]
  },
  {
   "cell_type": "code",
   "execution_count": 3,
   "metadata": {},
   "outputs": [],
   "source": [
    "proposal_df = pd.read_csv('../data/snapshot_proposals.csv')"
   ]
  },
  {
   "cell_type": "code",
   "execution_count": null,
   "metadata": {
    "scrolled": true
   },
   "outputs": [
    {
     "name": "stdout",
     "output_type": "stream",
     "text": [
      "Status: 200\n",
      "Status: 200\n",
      "Status: 200\n",
      "Status: 200\n",
      "Status: 200\n",
      "Status: 200\n",
      "Status: 200\n",
      "Status: 200\n",
      "Status: 200\n",
      "Status: 200\n",
      "Status: 200\n",
      "Status: 200\n",
      "Status: 200\n",
      "Status: 200\n",
      "Status: 200\n",
      "Status: 200\n",
      "Status: 200\n",
      "Status: 200\n",
      "Status: 200\n",
      "Status: 200\n",
      "Status: 200\n",
      "Status: 200\n",
      "Status: 200\n",
      "Status: 200\n",
      "Status: 200\n",
      "Status: 200\n",
      "Status: 200\n",
      "Status: 200\n",
      "Status: 200\n",
      "Status: 200\n",
      "Status: 200\n",
      "Status: 200\n",
      "Status: 200\n",
      "Status: 200\n",
      "Status: 200\n",
      "Status: 200\n",
      "Status: 200\n",
      "Status: 200\n",
      "Status: 200\n",
      "Status: 200\n",
      "Status: 200\n",
      "Status: 200\n",
      "Status: 200\n",
      "Status: 200\n",
      "Status: 200\n",
      "Status: 200\n",
      "Status: 200\n",
      "Status: 200\n",
      "Status: 200\n",
      "Status: 200\n",
      "Status: 200\n",
      "Status: 200\n",
      "Status: 200\n",
      "Status: 200\n",
      "Status: 200\n",
      "Status: 200\n",
      "Status: 200\n",
      "Status: 200\n",
      "Status: 200\n",
      "Status: 200\n",
      "Status: 200\n",
      "Status: 200\n",
      "Status: 200\n",
      "Status: 200\n",
      "Status: 200\n",
      "Status: 200\n",
      "Status: 200\n",
      "Status: 200\n",
      "Status: 200\n",
      "Status: 200\n",
      "Status: 200\n",
      "Status: 200\n",
      "Status: 200\n",
      "Status: 200\n",
      "Status: 200\n",
      "Status: 200\n",
      "Status: 200\n",
      "Status: 200\n",
      "Status: 200\n",
      "Status: 200\n",
      "Status: 200\n"
     ]
    }
   ],
   "source": [
    "total_votes_by_proposal = []\n",
    "votes = []\n",
    "\n",
    "for index, row in proposal_df.iterrows():\n",
    "    proposal_id = row['proposal_id']\n",
    "    dao_id = row['dao_id']\n",
    "    vs = request_votes(proposal_id)\n",
    "    total_votes = len(vs)\n",
    "    total_votes_by_proposal.append([dao_id, proposal_id, total_votes])\n",
    "    for v in vs:\n",
    "        data = [dao_id, proposal_id, v['id'], v['voter'], v['created'], v['choice'], v['space']['id']]\n",
    "        votes.append(data)"
   ]
  },
  {
   "cell_type": "code",
   "execution_count": null,
   "metadata": {},
   "outputs": [],
   "source": [
    "colnames_votes = ['dao_id', 'proposal_id','vote_id', 'voter_address', 'voted_at', 'vote_choice', 'snapshot_space_id']\n",
    "df_votes = pd.DataFrame(votes, columns=colnames_votes)\n",
    "df_votes.to_csv('../data/snapshot_votes.csv', index=False)\n",
    "\n",
    "colnames_total_votes_by_proposal = ['dao_id', 'proposal_id', 'total_votes']\n",
    "df_colnames_total_votes_by_proposal = pd.DataFrame(total_votes_by_proposal, columns=colnames_total_votes_by_proposal)\n",
    "df_colnames_total_votes_by_proposal.to_csv('../data/total_votes_by_proposal.csv', index=False)"
   ]
  },
  {
   "cell_type": "code",
   "execution_count": 27,
   "metadata": {},
   "outputs": [],
   "source": [
    "def request_proposals(governance):\n",
    "    r = requests.post(snapshot_api, json={\n",
    "        'query': GET_PROPOSALS, \n",
    "        'variables': {\n",
    "            'first': 10000,\n",
    "            'skip': 0,\n",
    "            'space_in': [governance]\n",
    "        }\n",
    "    })\n",
    "    print('Status:', r.status_code)\n",
    "    return json.loads(r.text)['data']['proposals']\n",
    "\n",
    "def request_votes(proposal_id):\n",
    "    r = requests.post(snapshot_api, json={\n",
    "        'query': GET_VOTES, \n",
    "        'variables': {\n",
    "            'first': 100000,\n",
    "            'skip': 0,\n",
    "            'proposal': proposal_id\n",
    "        }\n",
    "    })\n",
    "    print('Status:', r.status_code)\n",
    "    return json.loads(r.text)['data']['votes']"
   ]
  },
  {
   "cell_type": "code",
   "execution_count": 2,
   "metadata": {},
   "outputs": [
    {
     "name": "stdout",
     "output_type": "stream",
     "text": [
      "Status: 200\n"
     ]
    }
   ],
   "source": [
    "r = requests.post(snapshot_api, json={\n",
    "    'query': GET_PROPOSALS, \n",
    "    'variables': {\n",
    "        'first': 10000,\n",
    "        'skip': 0,\n",
    "        'space_in': [governance]\n",
    "    }\n",
    "})\n",
    "print('Status:', r.status_code)\n",
    "# print(r.text)\n",
    "# Load to JSON\n",
    "json_data = json.loads(r.text)"
   ]
  },
  {
   "cell_type": "code",
   "execution_count": 7,
   "metadata": {},
   "outputs": [],
   "source": [
    "proposals = json_data['data']['proposals']\n",
    "total_proposal = len(proposals)"
   ]
  },
  {
   "cell_type": "code",
   "execution_count": 8,
   "metadata": {},
   "outputs": [],
   "source": [
    "colnames = ['id', 'title', 'body', 'choices', 'start', 'end', 'snapshot', 'state', 'author', 'space_id', 'space_name', 'total_proposal']"
   ]
  },
  {
   "cell_type": "code",
   "execution_count": 9,
   "metadata": {},
   "outputs": [],
   "source": [
    "p = proposals[0]\n",
    "data = [p['id'], p['title'], p['body'], p['choices'], p['start'], p['end'], p['snapshot'], p['state'], p['author'], p['space']['id'], p['space']['name'],total_proposal]"
   ]
  },
  {
   "cell_type": "code",
   "execution_count": 47,
   "metadata": {},
   "outputs": [
    {
     "data": {
      "text/plain": [
       "{'id': 'QmeJESaxVPbRtNybEg42CduDAquPLPPcTTZZ6aybCQrjRy',\n",
       " 'title': \"What's your favorite fruit?\",\n",
       " 'body': \"We know you love'em all. But when u gotta squeeze good juice, sometime u gotta pick!\",\n",
       " 'choices': ['Pineapple', 'Banana', 'Blueberry'],\n",
       " 'start': 1629051300,\n",
       " 'end': 1629137100,\n",
       " 'snapshot': '13031286',\n",
       " 'state': 'closed',\n",
       " 'author': '0xf7253A0E87E39d2cD6365919D4a3D56D431D0041',\n",
       " 'space': {'id': 'jbdao.eth', 'name': 'JuiceboxDAO'}}"
      ]
     },
     "execution_count": 47,
     "metadata": {},
     "output_type": "execute_result"
    }
   ],
   "source": [
    "p"
   ]
  },
  {
   "cell_type": "code",
   "execution_count": 46,
   "metadata": {},
   "outputs": [
    {
     "data": {
      "text/plain": [
       "(399608, 7)"
      ]
     },
     "execution_count": 46,
     "metadata": {},
     "output_type": "execute_result"
    }
   ],
   "source": []
  },
  {
   "cell_type": "code",
   "execution_count": null,
   "metadata": {},
   "outputs": [],
   "source": []
  }
 ],
 "metadata": {
  "kernelspec": {
   "display_name": "Python [conda env:py3] *",
   "language": "python",
   "name": "conda-env-py3-py"
  },
  "language_info": {
   "codemirror_mode": {
    "name": "ipython",
    "version": 3
   },
   "file_extension": ".py",
   "mimetype": "text/x-python",
   "name": "python",
   "nbconvert_exporter": "python",
   "pygments_lexer": "ipython3",
   "version": "3.8.5"
  }
 },
 "nbformat": 4,
 "nbformat_minor": 4
}
