{
 "cells": [
  {
   "cell_type": "code",
   "execution_count": 70,
   "metadata": {},
   "outputs": [],
   "source": [
    "from utils import *\n",
    "token_address = '0xC18360217D8F7Ab5e7c516566761Ea12Ce7F9D72'\n",
    "governance = 'ens.eth'"
   ]
  },
  {
   "cell_type": "code",
   "execution_count": 2,
   "metadata": {},
   "outputs": [
    {
     "name": "stdout",
     "output_type": "stream",
     "text": [
      "request succeeded!\n"
     ]
    }
   ],
   "source": [
    "r = r_token_holder_url(1, token_address, 100000, 0)"
   ]
  },
  {
   "cell_type": "code",
   "execution_count": 3,
   "metadata": {},
   "outputs": [],
   "source": [
    "data = r['data']['items']"
   ]
  },
  {
   "cell_type": "code",
   "execution_count": 61,
   "metadata": {},
   "outputs": [],
   "source": [
    "# Data Schema\n",
    "# data[0]\n",
    "\n",
    "# {'contract_decimals': 18,\n",
    "#  'contract_name': 'Ethereum Name Service',\n",
    "#  'contract_ticker_symbol': 'ENS',\n",
    "#  'contract_address': '0xc18360217d8f7ab5e7c516566761ea12ce7f9d72',\n",
    "#  'supports_erc': None,\n",
    "#  'logo_url': 'https://logos.covalenthq.com/tokens/1/0xc18360217d8f7ab5e7c516566761ea12ce7f9d72.png',\n",
    "#  'address': '0xd7a029db2585553978190db5e85ec724aa4df23f',\n",
    "#  'balance': '65532017200000000000000000',\n",
    "#  'total_supply': '100000000000000000000000000',\n",
    "#  'block_height': 14550692}"
   ]
  },
  {
   "cell_type": "code",
   "execution_count": 56,
   "metadata": {},
   "outputs": [
    {
     "data": {
      "text/plain": [
       "100000000.0"
      ]
     },
     "execution_count": 56,
     "metadata": {},
     "output_type": "execute_result"
    }
   ],
   "source": [
    "# Total Holders\n",
    "total_holders = len(data)\n",
    "# Total Supply\n",
    "total_supply = int(data[0]['total_supply'])/(10**int(data[0]['contract_decimals']))"
   ]
  },
  {
   "cell_type": "code",
   "execution_count": 58,
   "metadata": {},
   "outputs": [],
   "source": [
    "# Extract token balance\n",
    "tokens = []\n",
    "for d in data:\n",
    "    tokens.append(int(d['balance'])/(10**18))\n",
    "\n",
    "# remove outliers\n",
    "t = reject_outliers(tokens, m=100.)"
   ]
  },
  {
   "cell_type": "code",
   "execution_count": 60,
   "metadata": {},
   "outputs": [
    {
     "data": {
      "text/plain": [
       "0.6897158110018142"
      ]
     },
     "execution_count": 60,
     "metadata": {},
     "output_type": "execute_result"
    }
   ],
   "source": [
    "# Gini index\n",
    "gini(t)"
   ]
  },
  {
   "cell_type": "code",
   "execution_count": 67,
   "metadata": {},
   "outputs": [],
   "source": [
    "# Distribution\n",
    "hist_cnt, hist_bins = np.histogram(t)"
   ]
  },
  {
   "cell_type": "code",
   "execution_count": 71,
   "metadata": {},
   "outputs": [
    {
     "name": "stdout",
     "output_type": "stream",
     "text": [
      "Status: 200\n"
     ]
    }
   ],
   "source": [
    "r = requests.post(snapshot_api, json={\n",
    "    'query': GET_PROPOSALS, \n",
    "    'variables': {\n",
    "        'first': 1000,\n",
    "        'skip': 0,\n",
    "        'space_in': [governance]\n",
    "    }\n",
    "})\n",
    "print('Status:', r.status_code)\n",
    "# print(r.text)\n",
    "# Load to JSON\n",
    "json_data = json.loads(r.text)"
   ]
  },
  {
   "cell_type": "code",
   "execution_count": 77,
   "metadata": {},
   "outputs": [],
   "source": [
    "proposals = json_data['data']['proposals']"
   ]
  },
  {
   "cell_type": "code",
   "execution_count": 78,
   "metadata": {},
   "outputs": [
    {
     "data": {
      "text/plain": [
       "22"
      ]
     },
     "execution_count": 78,
     "metadata": {},
     "output_type": "execute_result"
    }
   ],
   "source": [
    "len(proposals)"
   ]
  },
  {
   "cell_type": "code",
   "execution_count": 81,
   "metadata": {},
   "outputs": [
    {
     "data": {
      "text/plain": [
       "{'id': '0x104eb11d42813fadc2b408856e8fa2c10e34dbb4a87abaa2f089ece124263f16',\n",
       " 'title': '[EP10] [Executable] Fund a DAO-Governed Identity Server',\n",
       " 'body': \"Authors: [Gregory Rocco](https://github.com/obstropolos), [Wayne Chang](https://github.com/wyc)\\n\\n# Description\\nThis proposal is for the funding and establishment of a community-run OIDC Identity Provider Server for Sign-In with Ethereum, maintained by Spruce.\\n\\nTemperature check originally from [this post](https://discuss.ens.domains/t/a-credibly-neutral-sign-in-with-ethereum-identity-provider-server/11001)\\n\\n# Abstract\\nIn our research, we found that many services wanted to integrate the Sign-In with Ethereum workflow but did not have the ability to add new passwordless authentication methods to their installations.\\n\\nWe also learned that most services already support OpenID Connect, and were open to adding a new Identity Provider that supported the SIWE workflow. By meeting those services where they are today, we can provide a pragmatic stepping stone towards true decentralization, with an upgrade path to direct authentication. \\n\\nTo ensure adherence to the vision, it's critical that we collaborate with the ENS DAO on hosting and maintenance of this identity server, ensuring the identity server's governance ultimately resides with the community, whom we believe will always put users first. This would be the world’s first DAO-hosted, transparent identity server.\\n\\n# Rationale\\nThe ENS service and community would benefit from increased adoption of Sign-In with Ethereum due to the enablement of organizations to use ENS as a core touchpoint for a user’s basic identity and information (via ENS profiles).\\n\\nAdditionally, we believe that a community server could be governed by a credibly neutral party that Ethereum users accept as an intermediary. We think a non-profit or DAO are the right structures to help govern such a server, which is why we would like to collaborate with the ENS DAO on hosting and maintenance.\\n\\n# Specification and Proposal Request\\n\\n- **Establish a Subgroup in the Ecosystem Working Group: Community Managed Identity Server**\\n    - **$250,000** allocated from the DAO to the Ecosystem WG to fund this Subgroup. \\n        - **$75,000** from the allocated budget will be in place for community contributions related to the Subgroup, including grants for development, evangelism, and retroactive rewards for SIWE-related efforts.\\n        -  **$175,000** from the allocated budget will go towards Spruce's maintenance contract (see below). Paid 25% upon execution, and then an additional 25% every 3 months. \\n    - This Subgroup will support the administration and maintenance of a DAO-run Identity Server for Sign-In with Ethereum. This subgroup will also serve as a support system to help onboard organizations, and evangelize Sign-In with Ethereum to allow users to control their identifiers and use ENS profiles as a base identity.\\n    - An important part of duties this group will include creating training, onboarding, and maintenance materials for managing the server on a specified cloud account.\\n    - Additionally, the group will be responsible for providing updates to the broader community on the health of the server. \\n    - Initial lead: Rocco from Spruce, while continuing to add interested parties to the group for good governance. \\n    \\n- **A 12-month maintenance contract awarded to Spruce for the continuous monitoring, maintaining, and improving of the deployed Identity Server.**\\n    - Spruce will help host a [`siwe-oidc`](https://github.com/spruceid/siwe-oidc) implementation in a lightweight fashion, using a well-known infrastructure provider ultimately administered by the Subgroup.\\n        - Spruce will also be responsible for the deployment, and continuous monitoring, maintenance, and improvements on the server throughout the duration of the contract. \\n    - If the DAO votes to end the contract funding will be returned against the remaining days of the year and we will provide sufficient training for administrators to transfer those duties to a new organization.\\n    - The server is expected to be live within 60 days of this proposal being accepted, assuming that access to the necessary systems and people is provided on a timely basis. \\n    - The 1-year contract begins when this proposal is accepted, and there will not be additional setup fees even if there are increased coordination costs to get the service running.\",\n",
       " 'choices': ['For', 'Against', 'Abstain'],\n",
       " 'start': 1647385200,\n",
       " 'end': 1647817200,\n",
       " 'snapshot': '14394206',\n",
       " 'state': 'closed',\n",
       " 'author': '0x0904Dac3347eA47d208F3Fd67402D039a3b99859',\n",
       " 'space': {'id': 'ens.eth', 'name': 'ENS'}}"
      ]
     },
     "execution_count": 81,
     "metadata": {},
     "output_type": "execute_result"
    }
   ],
   "source": [
    "proposals[0]"
   ]
  },
  {
   "cell_type": "code",
   "execution_count": null,
   "metadata": {},
   "outputs": [],
   "source": []
  }
 ],
 "metadata": {
  "kernelspec": {
   "display_name": "Python [conda env:py3] *",
   "language": "python",
   "name": "conda-env-py3-py"
  },
  "language_info": {
   "codemirror_mode": {
    "name": "ipython",
    "version": 3
   },
   "file_extension": ".py",
   "mimetype": "text/x-python",
   "name": "python",
   "nbconvert_exporter": "python",
   "pygments_lexer": "ipython3",
   "version": "3.8.5"
  }
 },
 "nbformat": 4,
 "nbformat_minor": 4
}
