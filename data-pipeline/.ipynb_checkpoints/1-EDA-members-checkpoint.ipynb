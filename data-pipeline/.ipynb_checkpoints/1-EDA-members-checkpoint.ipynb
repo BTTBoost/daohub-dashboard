{
 "cells": [
  {
   "cell_type": "code",
   "execution_count": 2,
   "metadata": {},
   "outputs": [],
   "source": [
    "from utils import *"
   ]
  },
  {
   "cell_type": "code",
   "execution_count": 23,
   "metadata": {},
   "outputs": [
    {
     "data": {
      "text/plain": [
       "6"
      ]
     },
     "execution_count": 23,
     "metadata": {},
     "output_type": "execute_result"
    }
   ],
   "source": [
    "u.astype(int)"
   ]
  },
  {
   "cell_type": "code",
   "execution_count": 29,
   "metadata": {},
   "outputs": [
    {
     "name": "stdout",
     "output_type": "stream",
     "text": [
      "1 Developer DAO\n",
      "request succeeded!\n",
      "2 MetaversePRO\n",
      "request succeeded!\n",
      "3 Constitution DAO\n",
      "request succeeded!\n",
      "4 Bankless DAO\n",
      "request succeeded!\n",
      "5 Friends With Benefits\n",
      "request succeeded!\n",
      "6 Olympus DAO\n",
      "request succeeded!\n",
      "7 City DAO\n",
      "8 EventDAO\n",
      "9 Seed Club\n",
      "10 Krause House\n",
      "request succeeded!\n",
      "11 Gitcoin DAO\n",
      "request succeeded!\n",
      "12 FreeRoss DAO\n",
      "request succeeded!\n",
      "13 Pleasr DAO\n",
      "14 Nil DAO\n",
      "request succeeded!\n",
      "15 Klima DAO\n",
      "request succeeded!\n",
      "16 Index Coop\n",
      "request succeeded!\n",
      "17 MoonDAO\n",
      "request succeeded!\n",
      "18 Odyssey DAO\n",
      "19 OrangeDAO\n",
      "20 Uniswap\n",
      "Request Error: <Response [400]>\n",
      "Something wrong... Uniswap 0x1f9840a85d5af5bf1d1762f925bdaddc4201f984\n",
      "21 Hyperscale\n",
      "22 DAO Masters\n",
      "23 IndieDAO\n",
      "24 Babylon Finance\n",
      "request succeeded!\n",
      "25 Syndicate DAO\n",
      "26 Temple DAO\n",
      "request succeeded!\n",
      "27 ShapeShift DAO\n",
      "request succeeded!\n",
      "28 Links DAO\n",
      "request succeeded!\n",
      "Something wrong... Links DAO 0x696115768bbef67be8bd408d760332a7efbee92d\n",
      "29 Aave\n",
      "request succeeded!\n",
      "30 Forefront\n",
      "request succeeded!\n",
      "31 Maker DAO\n",
      "Request Error: <Response [400]>\n",
      "Something wrong... Maker DAO 0x6b175474e89094c44da98b954eedeac495271d0f\n",
      "32 Vector DAO\n",
      "33 Web3 Baddies\n",
      "34 ENS DAO\n",
      "request succeeded!\n",
      "35 WePiggy\n",
      "request succeeded!\n",
      "36 Crypto, Culture & Society\n",
      "request succeeded!\n",
      "37 Filmmaker DAO\n",
      "38 People DAO\n",
      "request succeeded!\n",
      "39 Joystream\n",
      "40 RabbitHole\n",
      "41 Scribe DAO\n",
      "42 Badger DAO\n",
      "request succeeded!\n",
      "43 Flamingo DAO\n",
      "44 Nouns DAO\n",
      "request succeeded!\n",
      "Something wrong... Nouns DAO 0x9c8ff314c9bc7f6e59a9d9225fb22946427edc03\n",
      "45 Squiggle DAO\n",
      "request succeeded!\n",
      "46 Tracer DAO\n",
      "request succeeded!\n",
      "47 MadRealities DAO\n",
      "request succeeded!\n",
      "Something wrong... MadRealities DAO 0xc4e0f3ec24972c75df7c716922096f4270b7bb4e\n",
      "48 Shiny\n",
      "request succeeded!\n",
      "49 Obscura\n",
      "50 Lex DAO\n",
      "51 Gro DAO\n",
      "request succeeded!\n",
      "52 Elf DAO\n",
      "53 Governor DAO\n",
      "request succeeded!\n",
      "54 UkraineDAO\n",
      "request succeeded!\n",
      "55 Goldfinch\n",
      "request succeeded!\n",
      "56 mxtter DAO\n",
      "57 Cabin\n",
      "request succeeded!\n",
      "58 Open Science DAO\n",
      "59 Movement DAO\n",
      "60 FLOC*\n",
      "61 NutboxDAO\n",
      "62 BLOCKS DAO\n",
      "63 Global Coin Research\n",
      "request succeeded!\n",
      "64 StakeborgDAO\n",
      "request succeeded!\n",
      "65 OpenDAO\n",
      "request succeeded!\n",
      "66 Meta Gamma Delta\n",
      "67 Bunker DAO\n",
      "68 Radicle\n",
      "request succeeded!\n",
      "69 SW DAO\n",
      "70 MetaCartel\n",
      "Something wrong... MetaCartel nan\n",
      "71 ShineDAO\n",
      "request succeeded!\n",
      "72 Superteam DAO\n",
      "73 TreasureDAO\n",
      "request succeeded!\n",
      "74 Curve DAO\n",
      "request succeeded!\n",
      "75 Kassandra DAO\n",
      "76 Bit DAO\n",
      "request succeeded!\n",
      "77 RAW DAO\n",
      "78 PizzaDAO\n",
      "79 DeStore\n",
      "80 Party DAO\n",
      "81 GLOWDAO\n",
      "82 Lobby3\n",
      "request succeeded!\n",
      "83 Jigstack DAO\n",
      "84 Dream Dao\n",
      "85 Juicebox\n",
      "request succeeded!\n"
     ]
    }
   ],
   "source": [
    "all_member_data = []\n",
    "member_detail = []\n",
    "for index, row in daoinfo.iterrows():\n",
    "    try:\n",
    "        dao_id = row['dao_id']\n",
    "        title = row['title']\n",
    "        token_address = row['token_address']\n",
    "        governance = row['governance']\n",
    "        print(str(dao_id), title)\n",
    "        total_holders, total_supply, gini_coefficient, hist_cnt, hist_bins, active_pct, top_voters, voter_count_hist, voter_count_bins = 0, None, None, None, None, None, None, None, None\n",
    "        if not isNaN(token_address):\n",
    "            res = r_token_holder_url(1, token_address, 100000, 0, latest_block)\n",
    "            data = res['data']['items']\n",
    "            # Total Holders\n",
    "            total_holders = len(data)\n",
    "            # Total Supply\n",
    "            if total_holders > 0:\n",
    "                total_supply = int(data[0]['total_supply'])/(10**int(data[0]['contract_decimals']))\n",
    "            # Extract token balance\n",
    "            tokens = []\n",
    "            for d in data:\n",
    "                tokens.append(int(d['balance'])/(10**18))\n",
    "\n",
    "            # remove outliers\n",
    "            tokens_norm = remove_outliers_by_std(tokens, m=10.)\n",
    "            u = np.floor(total_holders/1000)\n",
    "            l = np.floor(total_holders/1000)\n",
    "            tokens_norm_2 = remove_outliers_by_rank(tokens, u.astype(int), l.astype(int))\n",
    "            # gini index\n",
    "            if len(tokens_norm_2) > 0:\n",
    "                gini_coefficient = gini(tokens_norm_2)\n",
    "            # Distribution\n",
    "            # hist_cnt, hist_bins = np.histogram(tokens_norm)\n",
    "        if not isNaN(governance):\n",
    "            # Votes data\n",
    "            space_votes = votes.loc[votes['space_name']==governance]\n",
    "            unique_voters = space_votes['voter'].unique()\n",
    "            if total_holders > 0:\n",
    "                active_pct = len(unique_voters)/total_holders\n",
    "            unique_voters_count = space_votes['voter'].value_counts()\n",
    "            top_voters = unique_voters_count.head(20).to_dict()\n",
    "            voter_count_dist = unique_voters_count.values\n",
    "            if len(voter_count_dist) > 0:\n",
    "                bins = np.max(voter_count_dist) - np.min(voter_count_dist)\n",
    "                voter_count_hist, voter_count_bins = np.histogram(voter_count_dist, bins=bins)\n",
    "\n",
    "        member_data = [dao_id, title, total_holders, total_supply, unique_voters_count.shape[0], gini_coefficient, active_pct]\n",
    "        all_member_data.append(member_data)\n",
    "        member_detail.append([dao_id, tokens, tokens_norm, tokens_norm_2, top_voters])\n",
    "    except:\n",
    "        print('Something wrong...', row['title'], row['token_address'])\n",
    "#     print(row['title'], row['token_address'], row['governance'], row['governance_type'], math.isnan(row['governance_type']))\n",
    "    \n",
    "    "
   ]
  },
  {
   "cell_type": "code",
   "execution_count": 33,
   "metadata": {},
   "outputs": [],
   "source": [
    "colnames_member_data = ['dao_id', 'title', 'total_holders', 'total_supply', 'unique_voters_count', 'gini_coefficient', 'active_pct']\n",
    "df_member_data = pd.DataFrame(all_member_data, columns=colnames_member_data)\n",
    "df_member_data.to_csv('../data/members_summary.csv', index=False)\n",
    "\n",
    "colnames_member_detail = ['daoid', 'tokens', 'tokens_norm', 'tokens_norm_2', 'top_voters']\n",
    "df_member_detail = pd.DataFrame(member_detail, columns=colnames_member_detail)\n",
    "df_member_detail.to_csv('../data/members_detail.csv', index=False)"
   ]
  },
  {
   "cell_type": "code",
   "execution_count": 32,
   "metadata": {},
   "outputs": [
    {
     "data": {
      "text/html": [
       "<div>\n",
       "<style scoped>\n",
       "    .dataframe tbody tr th:only-of-type {\n",
       "        vertical-align: middle;\n",
       "    }\n",
       "\n",
       "    .dataframe tbody tr th {\n",
       "        vertical-align: top;\n",
       "    }\n",
       "\n",
       "    .dataframe thead th {\n",
       "        text-align: right;\n",
       "    }\n",
       "</style>\n",
       "<table border=\"1\" class=\"dataframe\">\n",
       "  <thead>\n",
       "    <tr style=\"text-align: right;\">\n",
       "      <th></th>\n",
       "      <th>daoid</th>\n",
       "      <th>title</th>\n",
       "      <th>total_holders</th>\n",
       "      <th>total_supply</th>\n",
       "      <th>unique_voters_count</th>\n",
       "      <th>gini_coefficient</th>\n",
       "      <th>active_pct</th>\n",
       "    </tr>\n",
       "  </thead>\n",
       "  <tbody>\n",
       "    <tr>\n",
       "      <th>0</th>\n",
       "      <td>1</td>\n",
       "      <td>Developer DAO</td>\n",
       "      <td>6030</td>\n",
       "      <td>7.828000e+03</td>\n",
       "      <td>1030</td>\n",
       "      <td>2.800160e-12</td>\n",
       "      <td>NaN</td>\n",
       "    </tr>\n",
       "    <tr>\n",
       "      <th>1</th>\n",
       "      <td>2</td>\n",
       "      <td>MetaversePRO</td>\n",
       "      <td>0</td>\n",
       "      <td>NaN</td>\n",
       "      <td>1030</td>\n",
       "      <td>NaN</td>\n",
       "      <td>NaN</td>\n",
       "    </tr>\n",
       "    <tr>\n",
       "      <th>2</th>\n",
       "      <td>3</td>\n",
       "      <td>Constitution DAO</td>\n",
       "      <td>16400</td>\n",
       "      <td>5.066677e+09</td>\n",
       "      <td>0</td>\n",
       "      <td>9.849469e-01</td>\n",
       "      <td>0.000000</td>\n",
       "    </tr>\n",
       "    <tr>\n",
       "      <th>3</th>\n",
       "      <td>4</td>\n",
       "      <td>Bankless DAO</td>\n",
       "      <td>4872</td>\n",
       "      <td>1.000000e+09</td>\n",
       "      <td>2831</td>\n",
       "      <td>9.487598e-01</td>\n",
       "      <td>0.581076</td>\n",
       "    </tr>\n",
       "    <tr>\n",
       "      <th>4</th>\n",
       "      <td>5</td>\n",
       "      <td>Friends With Benefits</td>\n",
       "      <td>5993</td>\n",
       "      <td>1.000000e+06</td>\n",
       "      <td>1477</td>\n",
       "      <td>8.581268e-01</td>\n",
       "      <td>0.246454</td>\n",
       "    </tr>\n",
       "    <tr>\n",
       "      <th>...</th>\n",
       "      <td>...</td>\n",
       "      <td>...</td>\n",
       "      <td>...</td>\n",
       "      <td>...</td>\n",
       "      <td>...</td>\n",
       "      <td>...</td>\n",
       "      <td>...</td>\n",
       "    </tr>\n",
       "    <tr>\n",
       "      <th>74</th>\n",
       "      <td>81</td>\n",
       "      <td>GLOWDAO</td>\n",
       "      <td>0</td>\n",
       "      <td>NaN</td>\n",
       "      <td>95</td>\n",
       "      <td>NaN</td>\n",
       "      <td>NaN</td>\n",
       "    </tr>\n",
       "    <tr>\n",
       "      <th>75</th>\n",
       "      <td>82</td>\n",
       "      <td>Lobby3</td>\n",
       "      <td>771</td>\n",
       "      <td>1.419000e+03</td>\n",
       "      <td>95</td>\n",
       "      <td>7.908264e-12</td>\n",
       "      <td>NaN</td>\n",
       "    </tr>\n",
       "    <tr>\n",
       "      <th>76</th>\n",
       "      <td>83</td>\n",
       "      <td>Jigstack DAO</td>\n",
       "      <td>0</td>\n",
       "      <td>NaN</td>\n",
       "      <td>95</td>\n",
       "      <td>NaN</td>\n",
       "      <td>NaN</td>\n",
       "    </tr>\n",
       "    <tr>\n",
       "      <th>77</th>\n",
       "      <td>84</td>\n",
       "      <td>Dream Dao</td>\n",
       "      <td>0</td>\n",
       "      <td>NaN</td>\n",
       "      <td>95</td>\n",
       "      <td>NaN</td>\n",
       "      <td>NaN</td>\n",
       "    </tr>\n",
       "    <tr>\n",
       "      <th>78</th>\n",
       "      <td>85</td>\n",
       "      <td>Juicebox</td>\n",
       "      <td>3444</td>\n",
       "      <td>1.444945e+09</td>\n",
       "      <td>653</td>\n",
       "      <td>8.926855e-01</td>\n",
       "      <td>0.189605</td>\n",
       "    </tr>\n",
       "  </tbody>\n",
       "</table>\n",
       "<p>79 rows × 7 columns</p>\n",
       "</div>"
      ],
      "text/plain": [
       "    daoid                  title  total_holders  total_supply  \\\n",
       "0       1          Developer DAO           6030  7.828000e+03   \n",
       "1       2           MetaversePRO              0           NaN   \n",
       "2       3       Constitution DAO          16400  5.066677e+09   \n",
       "3       4           Bankless DAO           4872  1.000000e+09   \n",
       "4       5  Friends With Benefits           5993  1.000000e+06   \n",
       "..    ...                    ...            ...           ...   \n",
       "74     81                GLOWDAO              0           NaN   \n",
       "75     82                 Lobby3            771  1.419000e+03   \n",
       "76     83           Jigstack DAO              0           NaN   \n",
       "77     84              Dream Dao              0           NaN   \n",
       "78     85               Juicebox           3444  1.444945e+09   \n",
       "\n",
       "    unique_voters_count  gini_coefficient  active_pct  \n",
       "0                  1030      2.800160e-12         NaN  \n",
       "1                  1030               NaN         NaN  \n",
       "2                     0      9.849469e-01    0.000000  \n",
       "3                  2831      9.487598e-01    0.581076  \n",
       "4                  1477      8.581268e-01    0.246454  \n",
       "..                  ...               ...         ...  \n",
       "74                   95               NaN         NaN  \n",
       "75                   95      7.908264e-12         NaN  \n",
       "76                   95               NaN         NaN  \n",
       "77                   95               NaN         NaN  \n",
       "78                  653      8.926855e-01    0.189605  \n",
       "\n",
       "[79 rows x 7 columns]"
      ]
     },
     "execution_count": 32,
     "metadata": {},
     "output_type": "execute_result"
    }
   ],
   "source": [
    "df_member_data"
   ]
  },
  {
   "cell_type": "code",
   "execution_count": 36,
   "metadata": {},
   "outputs": [],
   "source": [
    "daoinfo_with_members = pd.merge(daoinfo, df_member_data, on='dao_id')\n",
    "daoinfo_with_members.to_csv('../data/daoinfo_with_members.csv')"
   ]
  },
  {
   "cell_type": "code",
   "execution_count": 22,
   "metadata": {},
   "outputs": [
    {
     "data": {
      "text/plain": [
       "(1e-18, 3472.9543314133352)"
      ]
     },
     "execution_count": 22,
     "metadata": {},
     "output_type": "execute_result"
    }
   ],
   "source": [
    "token_dist[4][1]\n",
    "\n",
    "import json\n",
    "with open('token_dist.json', 'w') as fout:\n",
    "    json.dump(list(token_dist[4][2]), fout)\n",
    "np.min(token_dist[4][2]),np.max(token_dist[4][2]),"
   ]
  },
  {
   "cell_type": "code",
   "execution_count": 61,
   "metadata": {},
   "outputs": [],
   "source": [
    "# Data Schema\n",
    "# data[0]\n",
    "\n",
    "# {'contract_decimals': 18,\n",
    "#  'contract_name': 'Ethereum Name Service',\n",
    "#  'contract_ticker_symbol': 'ENS',\n",
    "#  'contract_address': '0xc18360217d8f7ab5e7c516566761ea12ce7f9d72',\n",
    "#  'supports_erc': None,\n",
    "#  'logo_url': 'https://logos.covalenthq.com/tokens/1/0xc18360217d8f7ab5e7c516566761ea12ce7f9d72.png',\n",
    "#  'address': '0xd7a029db2585553978190db5e85ec724aa4df23f',\n",
    "#  'balance': '65532017200000000000000000',\n",
    "#  'total_supply': '100000000000000000000000000',\n",
    "#  'block_height': 14550692}"
   ]
  },
  {
   "cell_type": "code",
   "execution_count": 56,
   "metadata": {},
   "outputs": [
    {
     "data": {
      "text/plain": [
       "100000000.0"
      ]
     },
     "execution_count": 56,
     "metadata": {},
     "output_type": "execute_result"
    }
   ],
   "source": [
    "# Total Holders\n",
    "total_holders = len(data)\n",
    "# Total Supply\n",
    "total_supply = int(data[0]['total_supply'])/(10**int(data[0]['contract_decimals']))"
   ]
  },
  {
   "cell_type": "code",
   "execution_count": 58,
   "metadata": {},
   "outputs": [],
   "source": [
    "# Extract token balance\n",
    "tokens = []\n",
    "for d in data:\n",
    "    tokens.append(int(d['balance'])/(10**18))\n",
    "\n",
    "# remove outliers\n",
    "t = reject_outliers(tokens, m=100.)"
   ]
  },
  {
   "cell_type": "code",
   "execution_count": 60,
   "metadata": {},
   "outputs": [
    {
     "data": {
      "text/plain": [
       "0.6897158110018142"
      ]
     },
     "execution_count": 60,
     "metadata": {},
     "output_type": "execute_result"
    }
   ],
   "source": [
    "# Gini index\n",
    "gini(t)"
   ]
  },
  {
   "cell_type": "code",
   "execution_count": 67,
   "metadata": {},
   "outputs": [],
   "source": [
    "# Distribution\n",
    "hist_cnt, hist_bins = np.histogram(t)"
   ]
  },
  {
   "cell_type": "code",
   "execution_count": 71,
   "metadata": {},
   "outputs": [
    {
     "name": "stdout",
     "output_type": "stream",
     "text": [
      "Status: 200\n"
     ]
    }
   ],
   "source": [
    "r = requests.post(snapshot_api, json={\n",
    "    'query': GET_PROPOSALS, \n",
    "    'variables': {\n",
    "        'first': 1000,\n",
    "        'skip': 0,\n",
    "        'space_in': [governance]\n",
    "    }\n",
    "})\n",
    "print('Status:', r.status_code)\n",
    "# print(r.text)\n",
    "# Load to JSON\n",
    "json_data = json.loads(r.text)"
   ]
  },
  {
   "cell_type": "code",
   "execution_count": 77,
   "metadata": {},
   "outputs": [],
   "source": [
    "proposals = json_data['data']['proposals']"
   ]
  },
  {
   "cell_type": "code",
   "execution_count": 78,
   "metadata": {},
   "outputs": [
    {
     "data": {
      "text/plain": [
       "22"
      ]
     },
     "execution_count": 78,
     "metadata": {},
     "output_type": "execute_result"
    }
   ],
   "source": [
    "len(proposals)"
   ]
  },
  {
   "cell_type": "code",
   "execution_count": 82,
   "metadata": {},
   "outputs": [
    {
     "data": {
      "text/plain": [
       "dict_keys(['id', 'title', 'body', 'choices', 'start', 'end', 'snapshot', 'state', 'author', 'space'])"
      ]
     },
     "execution_count": 82,
     "metadata": {},
     "output_type": "execute_result"
    }
   ],
   "source": [
    "proposals[0].keys()"
   ]
  },
  {
   "cell_type": "code",
   "execution_count": 84,
   "metadata": {},
   "outputs": [],
   "source": [
    "votes = pd.read_csv('../data/snapshot_votes.csv')"
   ]
  },
  {
   "cell_type": "code",
   "execution_count": 87,
   "metadata": {},
   "outputs": [],
   "source": [
    "space_votes = votes.loc[votes['space_name']==governance]"
   ]
  },
  {
   "cell_type": "code",
   "execution_count": 90,
   "metadata": {},
   "outputs": [],
   "source": [
    "unique_voters = space_votes['voter'].unique()"
   ]
  },
  {
   "cell_type": "code",
   "execution_count": 103,
   "metadata": {},
   "outputs": [],
   "source": [
    "active_pct = len(unique_voters)/total_holders"
   ]
  },
  {
   "cell_type": "code",
   "execution_count": 99,
   "metadata": {},
   "outputs": [],
   "source": [
    "unique_voters_count = space_votes['voter'].value_counts()"
   ]
  },
  {
   "cell_type": "code",
   "execution_count": 105,
   "metadata": {},
   "outputs": [],
   "source": [
    "voter_count_dist = unique_voters_count.values"
   ]
  },
  {
   "cell_type": "code",
   "execution_count": 118,
   "metadata": {},
   "outputs": [],
   "source": [
    "voter_count_dist = unique_voters_count.values\n",
    "bins = np.max(voter_count_dist) - np.min(voter_count_dist)\n",
    "voter_count_hist, voter_count_bins = np.histogram(voter_count_dist, bins=bins)"
   ]
  },
  {
   "cell_type": "code",
   "execution_count": 117,
   "metadata": {},
   "outputs": [
    {
     "data": {
      "text/plain": [
       "20"
      ]
     },
     "execution_count": 117,
     "metadata": {},
     "output_type": "execute_result"
    }
   ],
   "source": []
  },
  {
   "cell_type": "code",
   "execution_count": 127,
   "metadata": {},
   "outputs": [
    {
     "data": {
      "text/plain": [
       "array([20, 20, 20, ...,  1,  1,  1])"
      ]
     },
     "execution_count": 127,
     "metadata": {},
     "output_type": "execute_result"
    }
   ],
   "source": [
    "voter_count_dist"
   ]
  },
  {
   "cell_type": "code",
   "execution_count": null,
   "metadata": {},
   "outputs": [],
   "source": []
  }
 ],
 "metadata": {
  "kernelspec": {
   "display_name": "Python [conda env:py3] *",
   "language": "python",
   "name": "conda-env-py3-py"
  },
  "language_info": {
   "codemirror_mode": {
    "name": "ipython",
    "version": 3
   },
   "file_extension": ".py",
   "mimetype": "text/x-python",
   "name": "python",
   "nbconvert_exporter": "python",
   "pygments_lexer": "ipython3",
   "version": "3.8.5"
  }
 },
 "nbformat": 4,
 "nbformat_minor": 4
}
