{
 "cells": [
  {
   "cell_type": "code",
   "execution_count": 2,
   "metadata": {},
   "outputs": [],
   "source": [
    "from utils import *\n",
    "token_address = '0xC18360217D8F7Ab5e7c516566761Ea12Ce7F9D72'\n",
    "governance = 'ens.eth'"
   ]
  },
  {
   "cell_type": "code",
   "execution_count": 124,
   "metadata": {},
   "outputs": [],
   "source": [
    "import math\n",
    "votes = pd.read_csv('../data/snapshot_votes.csv')"
   ]
  },
  {
   "cell_type": "code",
   "execution_count": null,
   "metadata": {},
   "outputs": [],
   "source": [
    "len(all_member_data)"
   ]
  },
  {
   "cell_type": "code",
   "execution_count": 3,
   "metadata": {},
   "outputs": [
    {
     "name": "stdout",
     "output_type": "stream",
     "text": [
      "Developer DAO\n",
      "request succeeded!\n",
      "MetaversePRO\n",
      "request succeeded!\n",
      "Constitution DAO\n",
      "request succeeded!\n",
      "Bankless DAO\n",
      "request succeeded!\n",
      "Friends With Benefits\n",
      "request succeeded!\n",
      "Olympus DAO\n",
      "request succeeded!\n",
      "City DAO\n",
      "EventDAO\n",
      "Seed Club\n",
      "Krause House\n",
      "request succeeded!\n",
      "Gitcoin DAO\n",
      "request succeeded!\n",
      "FreeRoss DAO\n",
      "request succeeded!\n",
      "Pleasr DAO\n",
      "Nil DAO\n",
      "request succeeded!\n",
      "Klima DAO\n",
      "request succeeded!\n",
      "Index Coop\n",
      "request succeeded!\n",
      "MoonDAO\n",
      "request succeeded!\n",
      "Odyssey DAO\n",
      "OrangeDAO\n",
      "Uniswap\n",
      "Request Error: <Response [400]>\n",
      "Something wrong... Uniswap 0x1f9840a85d5af5bf1d1762f925bdaddc4201f984\n",
      "Hyperscale\n",
      "DAO Masters\n",
      "IndieDAO\n",
      "Babylon Finance\n",
      "request succeeded!\n",
      "Syndicate DAO\n",
      "Temple DAO\n",
      "request succeeded!\n",
      "ShapeShift DAO\n",
      "request succeeded!\n",
      "Links DAO\n",
      "request succeeded!\n",
      "Something wrong... Links DAO 0x696115768bbef67be8bd408d760332a7efbee92d\n",
      "Aave\n",
      "request succeeded!\n",
      "Forefront\n",
      "request succeeded!\n",
      "Maker DAO\n",
      "Request Error: <Response [400]>\n",
      "Something wrong... Maker DAO 0x6b175474e89094c44da98b954eedeac495271d0f\n",
      "Vector DAO\n",
      "Web3 Baddies\n",
      "ENS DAO\n",
      "request succeeded!\n",
      "WePiggy\n",
      "request succeeded!\n",
      "Crypto, Culture & Society\n",
      "request succeeded!\n",
      "Filmmaker DAO\n",
      "People DAO\n",
      "request succeeded!\n",
      "Joystream\n",
      "RabbitHole\n",
      "Scribe DAO\n",
      "Badger DAO\n",
      "request succeeded!\n",
      "Flamingo DAO\n",
      "Nouns DAO\n",
      "request succeeded!\n",
      "Something wrong... Nouns DAO 0x9c8ff314c9bc7f6e59a9d9225fb22946427edc03\n",
      "Squiggle DAO\n",
      "request succeeded!\n",
      "Tracer DAO\n",
      "request succeeded!\n",
      "MadRealities DAO\n",
      "request succeeded!\n",
      "Something wrong... MadRealities DAO 0xc4e0f3ec24972c75df7c716922096f4270b7bb4e\n",
      "Shiny\n",
      "request succeeded!\n",
      "Obscura\n",
      "Lex DAO\n",
      "Gro DAO\n",
      "request succeeded!\n",
      "Elf DAO\n",
      "Governor DAO\n",
      "request succeeded!\n",
      "UkraineDAO\n",
      "request succeeded!\n",
      "Goldfinch\n",
      "request succeeded!\n",
      "mxtter DAO\n",
      "Cabin\n",
      "request succeeded!\n",
      "Open Science DAO\n",
      "Movement DAO\n",
      "FLOC*\n",
      "NutboxDAO\n",
      "BLOCKS DAO\n",
      "Global Coin Research\n",
      "request succeeded!\n",
      "StakeborgDAO\n",
      "request succeeded!\n",
      "OpenDAO\n",
      "request succeeded!\n",
      "Meta Gamma Delta\n",
      "Bunker DAO\n",
      "Radicle\n",
      "request succeeded!\n",
      "SW DAO\n",
      "MetaCartel\n",
      "Something wrong... MetaCartel nan\n",
      "ShineDAO\n",
      "request succeeded!\n",
      "Superteam DAO\n",
      "TreasureDAO\n",
      "request succeeded!\n",
      "Curve DAO\n",
      "request succeeded!\n",
      "Kassandra DAO\n",
      "Bit DAO\n",
      "request succeeded!\n",
      "RAW DAO\n",
      "PizzaDAO\n",
      "DeStore\n",
      "Party DAO\n",
      "GLOWDAO\n",
      "Lobby3\n",
      "request succeeded!\n",
      "Jigstack DAO\n",
      "Dream Dao\n",
      "Juicebox\n",
      "request succeeded!\n"
     ]
    }
   ],
   "source": [
    "def isNaN(num):\n",
    "    return num != num\n",
    "all_member_data = []\n",
    "for index, row in df.iterrows():\n",
    "    try:\n",
    "        title = row['title']\n",
    "        token_address = row['token_address']\n",
    "        governance = row['governance']\n",
    "        print(title)\n",
    "        total_holders, total_supply, gini_coefficient, hist_cnt, hist_bins, active_pct, top_voters, voter_count_hist, voter_count_bins = 0, None, None, None, None, None, None, None, None\n",
    "        if not isNaN(token_address):\n",
    "            r = r_token_holder_url(1, token_address, 100000, 0)\n",
    "            data = r['data']['items']\n",
    "            # Total Holders\n",
    "            total_holders = len(data)\n",
    "            # Total Supply\n",
    "            if total_holders > 0:\n",
    "                total_supply = int(data[0]['total_supply'])/(10**int(data[0]['contract_decimals']))\n",
    "            # Extract token balance\n",
    "            tokens = []\n",
    "            for d in data:\n",
    "                tokens.append(int(d['balance'])/(10**18))\n",
    "                # remove outliers\n",
    "                t = reject_outliers(tokens, m=100.)\n",
    "                # gini index\n",
    "                gini_coefficient = gini(t)\n",
    "                # Distribution\n",
    "                hist_cnt, hist_bins = np.histogram(t)\n",
    "        if not isNaN(governance):\n",
    "            # Votes data\n",
    "            space_votes = votes.loc[votes['space_name']==governance]\n",
    "            unique_voters = space_votes['voter'].unique()\n",
    "            if total_holders > 0:\n",
    "                active_pct = len(unique_voters)/total_holders\n",
    "            unique_voters_count = space_votes['voter'].value_counts()\n",
    "            top_voters = unique_voters_count.head(20).to_dict()\n",
    "            voter_count_dist = unique_voters_count.values\n",
    "            if len(voter_count_dist) > 0:\n",
    "                bins = np.max(voter_count_dist) - np.min(voter_count_dist)\n",
    "                voter_count_hist, voter_count_bins = np.histogram(voter_count_dist, bins=bins)\n",
    "\n",
    "        member_data = [title, total_holders, total_supply, gini_coefficient, hist_cnt, hist_bins, active_pct, top_voters, voter_count_hist, voter_count_bins]\n",
    "        all_member_data.append(member_data)\n",
    "    except:\n",
    "        print('Something wrong...', row['title'], row['token_address'])\n",
    "#     print(row['title'], row['token_address'], row['governance'], row['governance_type'], math.isnan(row['governance_type']))\n",
    "    \n",
    "    "
   ]
  },
  {
   "cell_type": "code",
   "execution_count": 4,
   "metadata": {},
   "outputs": [],
   "source": [
    "colnames = ['title', 'total_holders', 'total_supply', 'gini_coefficient', 'hist_cnt', 'hist_bins', 'active_pct', 'top_voters', 'voter_count_hist', 'voter_count_bins']\n",
    "df_member_data = pd.DataFrame(all_member_data, columns=colnames)\n",
    "df_member_data.to_csv('../data/members.csv', index=False)"
   ]
  },
  {
   "cell_type": "code",
   "execution_count": 2,
   "metadata": {},
   "outputs": [
    {
     "name": "stdout",
     "output_type": "stream",
     "text": [
      "request succeeded!\n"
     ]
    }
   ],
   "source": [
    "r = r_token_holder_url(1, token_address, 100000, 0)"
   ]
  },
  {
   "cell_type": "code",
   "execution_count": 3,
   "metadata": {},
   "outputs": [],
   "source": [
    "data = r['data']['items']"
   ]
  },
  {
   "cell_type": "code",
   "execution_count": 61,
   "metadata": {},
   "outputs": [],
   "source": [
    "# Data Schema\n",
    "# data[0]\n",
    "\n",
    "# {'contract_decimals': 18,\n",
    "#  'contract_name': 'Ethereum Name Service',\n",
    "#  'contract_ticker_symbol': 'ENS',\n",
    "#  'contract_address': '0xc18360217d8f7ab5e7c516566761ea12ce7f9d72',\n",
    "#  'supports_erc': None,\n",
    "#  'logo_url': 'https://logos.covalenthq.com/tokens/1/0xc18360217d8f7ab5e7c516566761ea12ce7f9d72.png',\n",
    "#  'address': '0xd7a029db2585553978190db5e85ec724aa4df23f',\n",
    "#  'balance': '65532017200000000000000000',\n",
    "#  'total_supply': '100000000000000000000000000',\n",
    "#  'block_height': 14550692}"
   ]
  },
  {
   "cell_type": "code",
   "execution_count": 56,
   "metadata": {},
   "outputs": [
    {
     "data": {
      "text/plain": [
       "100000000.0"
      ]
     },
     "execution_count": 56,
     "metadata": {},
     "output_type": "execute_result"
    }
   ],
   "source": [
    "# Total Holders\n",
    "total_holders = len(data)\n",
    "# Total Supply\n",
    "total_supply = int(data[0]['total_supply'])/(10**int(data[0]['contract_decimals']))"
   ]
  },
  {
   "cell_type": "code",
   "execution_count": 58,
   "metadata": {},
   "outputs": [],
   "source": [
    "# Extract token balance\n",
    "tokens = []\n",
    "for d in data:\n",
    "    tokens.append(int(d['balance'])/(10**18))\n",
    "\n",
    "# remove outliers\n",
    "t = reject_outliers(tokens, m=100.)"
   ]
  },
  {
   "cell_type": "code",
   "execution_count": 60,
   "metadata": {},
   "outputs": [
    {
     "data": {
      "text/plain": [
       "0.6897158110018142"
      ]
     },
     "execution_count": 60,
     "metadata": {},
     "output_type": "execute_result"
    }
   ],
   "source": [
    "# Gini index\n",
    "gini(t)"
   ]
  },
  {
   "cell_type": "code",
   "execution_count": 67,
   "metadata": {},
   "outputs": [],
   "source": [
    "# Distribution\n",
    "hist_cnt, hist_bins = np.histogram(t)"
   ]
  },
  {
   "cell_type": "code",
   "execution_count": 71,
   "metadata": {},
   "outputs": [
    {
     "name": "stdout",
     "output_type": "stream",
     "text": [
      "Status: 200\n"
     ]
    }
   ],
   "source": [
    "r = requests.post(snapshot_api, json={\n",
    "    'query': GET_PROPOSALS, \n",
    "    'variables': {\n",
    "        'first': 1000,\n",
    "        'skip': 0,\n",
    "        'space_in': [governance]\n",
    "    }\n",
    "})\n",
    "print('Status:', r.status_code)\n",
    "# print(r.text)\n",
    "# Load to JSON\n",
    "json_data = json.loads(r.text)"
   ]
  },
  {
   "cell_type": "code",
   "execution_count": 77,
   "metadata": {},
   "outputs": [],
   "source": [
    "proposals = json_data['data']['proposals']"
   ]
  },
  {
   "cell_type": "code",
   "execution_count": 78,
   "metadata": {},
   "outputs": [
    {
     "data": {
      "text/plain": [
       "22"
      ]
     },
     "execution_count": 78,
     "metadata": {},
     "output_type": "execute_result"
    }
   ],
   "source": [
    "len(proposals)"
   ]
  },
  {
   "cell_type": "code",
   "execution_count": 82,
   "metadata": {},
   "outputs": [
    {
     "data": {
      "text/plain": [
       "dict_keys(['id', 'title', 'body', 'choices', 'start', 'end', 'snapshot', 'state', 'author', 'space'])"
      ]
     },
     "execution_count": 82,
     "metadata": {},
     "output_type": "execute_result"
    }
   ],
   "source": [
    "proposals[0].keys()"
   ]
  },
  {
   "cell_type": "code",
   "execution_count": 84,
   "metadata": {},
   "outputs": [],
   "source": [
    "votes = pd.read_csv('../data/snapshot_votes.csv')"
   ]
  },
  {
   "cell_type": "code",
   "execution_count": 87,
   "metadata": {},
   "outputs": [],
   "source": [
    "space_votes = votes.loc[votes['space_name']==governance]"
   ]
  },
  {
   "cell_type": "code",
   "execution_count": 90,
   "metadata": {},
   "outputs": [],
   "source": [
    "unique_voters = space_votes['voter'].unique()"
   ]
  },
  {
   "cell_type": "code",
   "execution_count": 103,
   "metadata": {},
   "outputs": [],
   "source": [
    "active_pct = len(unique_voters)/total_holders"
   ]
  },
  {
   "cell_type": "code",
   "execution_count": 99,
   "metadata": {},
   "outputs": [],
   "source": [
    "unique_voters_count = space_votes['voter'].value_counts()"
   ]
  },
  {
   "cell_type": "code",
   "execution_count": 105,
   "metadata": {},
   "outputs": [],
   "source": [
    "voter_count_dist = unique_voters_count.values"
   ]
  },
  {
   "cell_type": "code",
   "execution_count": 118,
   "metadata": {},
   "outputs": [],
   "source": [
    "voter_count_dist = unique_voters_count.values\n",
    "bins = np.max(voter_count_dist) - np.min(voter_count_dist)\n",
    "voter_count_hist, voter_count_bins = np.histogram(voter_count_dist, bins=bins)"
   ]
  },
  {
   "cell_type": "code",
   "execution_count": 117,
   "metadata": {},
   "outputs": [
    {
     "data": {
      "text/plain": [
       "20"
      ]
     },
     "execution_count": 117,
     "metadata": {},
     "output_type": "execute_result"
    }
   ],
   "source": []
  },
  {
   "cell_type": "code",
   "execution_count": 127,
   "metadata": {},
   "outputs": [
    {
     "data": {
      "text/plain": [
       "array([20, 20, 20, ...,  1,  1,  1])"
      ]
     },
     "execution_count": 127,
     "metadata": {},
     "output_type": "execute_result"
    }
   ],
   "source": [
    "voter_count_dist"
   ]
  },
  {
   "cell_type": "code",
   "execution_count": null,
   "metadata": {},
   "outputs": [],
   "source": []
  }
 ],
 "metadata": {
  "kernelspec": {
   "display_name": "Python [conda env:py3] *",
   "language": "python",
   "name": "conda-env-py3-py"
  },
  "language_info": {
   "codemirror_mode": {
    "name": "ipython",
    "version": 3
   },
   "file_extension": ".py",
   "mimetype": "text/x-python",
   "name": "python",
   "nbconvert_exporter": "python",
   "pygments_lexer": "ipython3",
   "version": "3.8.5"
  }
 },
 "nbformat": 4,
 "nbformat_minor": 4
}
