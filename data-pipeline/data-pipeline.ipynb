{
 "cells": [
  {
   "cell_type": "code",
   "execution_count": 102,
   "metadata": {},
   "outputs": [],
   "source": [
    "import requests\n",
    "import json\n",
    "import pandas as pd\n",
    "\n",
    "snapshot_api = 'https://hub.snapshot.org/graphql'\n",
    "covalent_api = 'https://api.covalenthq.com/v1/'\n",
    "covalent_key = 'ckey_1c9890fa556c457ab9ff050c2f4'\n",
    "\n",
    "ens_token_addr = '0x2d94aa3e47d9d5024503ca8491fce9a2fb4da198' # for testing purpose"
   ]
  },
  {
   "cell_type": "markdown",
   "metadata": {},
   "source": [
    "# 1. Snapshot API\n",
    "### (1) Query Proposals"
   ]
  },
  {
   "cell_type": "code",
   "execution_count": 65,
   "metadata": {},
   "outputs": [],
   "source": [
    "GET_PROPOSALS = \"\"\"\n",
    "query ($first:Int!, $skip:Int!, $space_in:[String]!) {\n",
    "  proposals (\n",
    "    first: $first,\n",
    "    skip: $skip,\n",
    "    where: {\n",
    "      space_in: $space_in,\n",
    "    },\n",
    "    orderBy: \"created\",\n",
    "    orderDirection: desc\n",
    "  ) {\n",
    "    id\n",
    "    title\n",
    "    body\n",
    "    choices\n",
    "    start\n",
    "    end\n",
    "    snapshot\n",
    "    state\n",
    "    author\n",
    "    space {\n",
    "      id\n",
    "      name\n",
    "    }\n",
    "  }\n",
    "}\n",
    "\"\"\""
   ]
  },
  {
   "cell_type": "code",
   "execution_count": 67,
   "metadata": {},
   "outputs": [
    {
     "name": "stdout",
     "output_type": "stream",
     "text": [
      "Status: 200\n"
     ]
    }
   ],
   "source": [
    "r = requests.post(snapshot_api, json={\n",
    "    'query': GET_PROPOSALS, \n",
    "    'variables': {\n",
    "        'first': 1000,\n",
    "        'skip': 0,\n",
    "        'space_in': ['ens.eth']\n",
    "    }\n",
    "})\n",
    "print('Status:', r.status_code)\n",
    "# print(r.text)\n",
    "# Load to JSON\n",
    "json_data = json.loads(r.text)"
   ]
  },
  {
   "cell_type": "code",
   "execution_count": 68,
   "metadata": {},
   "outputs": [
    {
     "data": {
      "text/plain": [
       "22"
      ]
     },
     "execution_count": 68,
     "metadata": {},
     "output_type": "execute_result"
    }
   ],
   "source": [
    "# total # of proposals\n",
    "proposals = json_data['data']['proposals']\n",
    "len(proposals)"
   ]
  },
  {
   "cell_type": "code",
   "execution_count": 69,
   "metadata": {},
   "outputs": [
    {
     "data": {
      "text/plain": [
       "dict_keys(['id', 'title', 'body', 'choices', 'start', 'end', 'snapshot', 'state', 'author', 'space'])"
      ]
     },
     "execution_count": 69,
     "metadata": {},
     "output_type": "execute_result"
    }
   ],
   "source": [
    "# Ids for each proposal\n",
    "p0 = proposals[0]\n",
    "p0.keys()\n",
    "# dict_keys(['id', 'title', 'body', 'choices', 'start', 'end', 'snapshot', 'state', 'author', 'space'])"
   ]
  },
  {
   "cell_type": "code",
   "execution_count": 70,
   "metadata": {},
   "outputs": [
    {
     "name": "stdout",
     "output_type": "stream",
     "text": [
      "\n",
      " id :\n",
      " 0x104eb11d42813fadc2b408856e8fa2c10e34dbb4a87abaa2f089ece124263f16\n",
      "\n",
      " title :\n",
      " [EP10] [Executable] Fund a DAO-Governed Identity Server\n",
      "\n",
      " body :\n",
      " Authors: [Gregory Rocco](https://github.com/obstropolos), [Wayne Chang](https://github.com/wyc)\n",
      "\n",
      "# Description\n",
      "This proposal is for the funding and establishment of a community-run OIDC Identity Provider Server for Sign-In with Ethereum, maintained by Spruce.\n",
      "\n",
      "Temperature check originally from [this post](https://discuss.ens.domains/t/a-credibly-neutral-sign-in-with-ethereum-identity-provider-server/11001)\n",
      "\n",
      "# Abstract\n",
      "In our research, we found that many services wanted to integrate the Sign-In with Ethereum workflow but did not have the ability to add new passwordless authentication methods to their installations.\n",
      "\n",
      "We also learned that most services already support OpenID Connect, and were open to adding a new Identity Provider that supported the SIWE workflow. By meeting those services where they are today, we can provide a pragmatic stepping stone towards true decentralization, with an upgrade path to direct authentication. \n",
      "\n",
      "To ensure adherence to the vision, it's critical that we collaborate with the ENS DAO on hosting and maintenance of this identity server, ensuring the identity server's governance ultimately resides with the community, whom we believe will always put users first. This would be the world’s first DAO-hosted, transparent identity server.\n",
      "\n",
      "# Rationale\n",
      "The ENS service and community would benefit from increased adoption of Sign-In with Ethereum due to the enablement of organizations to use ENS as a core touchpoint for a user’s basic identity and information (via ENS profiles).\n",
      "\n",
      "Additionally, we believe that a community server could be governed by a credibly neutral party that Ethereum users accept as an intermediary. We think a non-profit or DAO are the right structures to help govern such a server, which is why we would like to collaborate with the ENS DAO on hosting and maintenance.\n",
      "\n",
      "# Specification and Proposal Request\n",
      "\n",
      "- **Establish a Subgroup in the Ecosystem Working Group: Community Managed Identity Server**\n",
      "    - **$250,000** allocated from the DAO to the Ecosystem WG to fund this Subgroup. \n",
      "        - **$75,000** from the allocated budget will be in place for community contributions related to the Subgroup, including grants for development, evangelism, and retroactive rewards for SIWE-related efforts.\n",
      "        -  **$175,000** from the allocated budget will go towards Spruce's maintenance contract (see below). Paid 25% upon execution, and then an additional 25% every 3 months. \n",
      "    - This Subgroup will support the administration and maintenance of a DAO-run Identity Server for Sign-In with Ethereum. This subgroup will also serve as a support system to help onboard organizations, and evangelize Sign-In with Ethereum to allow users to control their identifiers and use ENS profiles as a base identity.\n",
      "    - An important part of duties this group will include creating training, onboarding, and maintenance materials for managing the server on a specified cloud account.\n",
      "    - Additionally, the group will be responsible for providing updates to the broader community on the health of the server. \n",
      "    - Initial lead: Rocco from Spruce, while continuing to add interested parties to the group for good governance. \n",
      "    \n",
      "- **A 12-month maintenance contract awarded to Spruce for the continuous monitoring, maintaining, and improving of the deployed Identity Server.**\n",
      "    - Spruce will help host a [`siwe-oidc`](https://github.com/spruceid/siwe-oidc) implementation in a lightweight fashion, using a well-known infrastructure provider ultimately administered by the Subgroup.\n",
      "        - Spruce will also be responsible for the deployment, and continuous monitoring, maintenance, and improvements on the server throughout the duration of the contract. \n",
      "    - If the DAO votes to end the contract funding will be returned against the remaining days of the year and we will provide sufficient training for administrators to transfer those duties to a new organization.\n",
      "    - The server is expected to be live within 60 days of this proposal being accepted, assuming that access to the necessary systems and people is provided on a timely basis. \n",
      "    - The 1-year contract begins when this proposal is accepted, and there will not be additional setup fees even if there are increased coordination costs to get the service running.\n",
      "\n",
      " choices :\n",
      " ['For', 'Against', 'Abstain']\n",
      "\n",
      " start :\n",
      " 1647385200\n",
      "\n",
      " end :\n",
      " 1647817200\n",
      "\n",
      " snapshot :\n",
      " 14394206\n",
      "\n",
      " state :\n",
      " closed\n",
      "\n",
      " author :\n",
      " 0x0904Dac3347eA47d208F3Fd67402D039a3b99859\n",
      "\n",
      " space :\n",
      " {'id': 'ens.eth', 'name': 'ENS'}\n"
     ]
    }
   ],
   "source": [
    "for i in p0.keys():\n",
    "    print('\\n', i,':\\n',p0[i])"
   ]
  },
  {
   "cell_type": "markdown",
   "metadata": {},
   "source": [
    "### 2. Get Votes"
   ]
  },
  {
   "cell_type": "code",
   "execution_count": 60,
   "metadata": {},
   "outputs": [],
   "source": [
    "GET_VOTES = \"\"\"query ($first:Int!, $skip:Int!, $proposal:String!) {\n",
    "  votes (\n",
    "    first: $first\n",
    "    skip: $skip\n",
    "    where: {\n",
    "      proposal: $proposal\n",
    "    }\n",
    "    orderBy: \"created\",\n",
    "    orderDirection: desc\n",
    "  ) {\n",
    "    id\n",
    "    voter\n",
    "    created\n",
    "    proposal {\n",
    "      id\n",
    "    }\n",
    "    choice\n",
    "    space {\n",
    "      id\n",
    "    }\n",
    "  }\n",
    "}\n",
    "\"\"\""
   ]
  },
  {
   "cell_type": "code",
   "execution_count": 71,
   "metadata": {},
   "outputs": [
    {
     "name": "stdout",
     "output_type": "stream",
     "text": [
      "Status: 200\n"
     ]
    }
   ],
   "source": [
    "r = requests.post(snapshot_api, json={\n",
    "    'query': GET_VOTES, \n",
    "    'variables': {\n",
    "        'first': 1000,\n",
    "        'skip': 0,\n",
    "        'proposal': '0x104eb11d42813fadc2b408856e8fa2c10e34dbb4a87abaa2f089ece124263f16'\n",
    "    }\n",
    "})\n",
    "print('Status:', r.status_code)\n",
    "# print(r.text)\n",
    "# Load to JSON\n",
    "json_data = json.loads(r.text)"
   ]
  },
  {
   "cell_type": "code",
   "execution_count": 76,
   "metadata": {},
   "outputs": [
    {
     "data": {
      "text/plain": [
       "445"
      ]
     },
     "execution_count": 76,
     "metadata": {},
     "output_type": "execute_result"
    }
   ],
   "source": [
    "# total # of votes\n",
    "votes = json_data['data']['votes']\n",
    "len(votes)"
   ]
  },
  {
   "cell_type": "code",
   "execution_count": 79,
   "metadata": {},
   "outputs": [
    {
     "name": "stdout",
     "output_type": "stream",
     "text": [
      "\n",
      " id :\n",
      " 0xb5502554b55912be5be38cbd7c3567decd324f8734a28e567848010c14028f58\n",
      "\n",
      " voter :\n",
      " 0x6eB0F29b8Fc7A29E517BA56Dd79287B3CCaC64f3\n",
      "\n",
      " created :\n",
      " 1647809547\n",
      "\n",
      " proposal :\n",
      " {'id': '0x104eb11d42813fadc2b408856e8fa2c10e34dbb4a87abaa2f089ece124263f16'}\n",
      "\n",
      " choice :\n",
      " 1\n",
      "\n",
      " space :\n",
      " {'id': 'ens.eth'}\n"
     ]
    }
   ],
   "source": [
    "v0 = votes[0]\n",
    "for i in v0.keys():\n",
    "    print('\\n', i, ':\\n', v0[i])"
   ]
  },
  {
   "cell_type": "markdown",
   "metadata": {},
   "source": [
    "# 2. Covalent\n",
    "### (1) Get all token holders"
   ]
  },
  {
   "cell_type": "code",
   "execution_count": 117,
   "metadata": {},
   "outputs": [
    {
     "name": "stdout",
     "output_type": "stream",
     "text": [
      "https://api.covalenthq.com/v1/1/tokens/0x2d94aa3e47d9d5024503ca8491fce9a2fb4da198/token_holders/?quote-currency=USD&format=JSON&page-size=10000&page-number=0&key=ckey_1c9890fa556c457ab9ff050c2f4\n",
      "Status: 200\n"
     ]
    }
   ],
   "source": [
    "def r_token_holder_url(network_id, proposal_id, page_size, page_number):\n",
    "    return covalent_api + str(network_id) + '/tokens/' + str(proposal_id) + '/token_holders/?quote-currency=USD&format=JSON&page-size=' + str(page_size) + '&page-number=' + str(page_number) + '&key=' + covalent_key\n",
    "\n",
    "request_url = r_token_holder_url(1, ens_token_addr, 10000, 0)\n",
    "print(request_url)\n",
    "r = requests.get(request_url)\n",
    "print('Status:', r.status_code)\n",
    "# Load to JSON\n",
    "json_data = json.loads(r.text)"
   ]
  },
  {
   "cell_type": "code",
   "execution_count": 120,
   "metadata": {},
   "outputs": [
    {
     "data": {
      "text/plain": [
       "dict_keys(['updated_at', 'items', 'pagination'])"
      ]
     },
     "execution_count": 120,
     "metadata": {},
     "output_type": "execute_result"
    }
   ],
   "source": [
    "json_data['data'].keys()"
   ]
  },
  {
   "cell_type": "code",
   "execution_count": 119,
   "metadata": {},
   "outputs": [
    {
     "data": {
      "text/plain": [
       "{'has_more': False, 'page_number': 0, 'page_size': 10000, 'total_count': 4872}"
      ]
     },
     "execution_count": 119,
     "metadata": {},
     "output_type": "execute_result"
    }
   ],
   "source": [
    "json_data['data']['pagination']"
   ]
  },
  {
   "cell_type": "code",
   "execution_count": 121,
   "metadata": {},
   "outputs": [
    {
     "data": {
      "text/plain": [
       "4872"
      ]
     },
     "execution_count": 121,
     "metadata": {},
     "output_type": "execute_result"
    }
   ],
   "source": [
    "len(json_data['data']['items'])"
   ]
  },
  {
   "cell_type": "code",
   "execution_count": 115,
   "metadata": {},
   "outputs": [
    {
     "name": "stdout",
     "output_type": "stream",
     "text": [
      "https://api.covalenthq.com/v1/1/tokens/0x2d94aa3e47d9d5024503ca8491fce9a2fb4da198/token_holders/?quote-currency=USD&format=JSON&page-size=1000&page-number=1&key=ckey_1c9890fa556c457ab9ff050c2f4\n",
      "Status: 200\n"
     ]
    }
   ],
   "source": [
    "request_url = r_token_holder_url(1, ens_token_addr, 1000, 1)\n",
    "print(request_url)\n",
    "r = requests.get(request_url)\n",
    "print('Status:', r.status_code)\n",
    "# Load to JSON\n",
    "json_data = json.loads(r.text)"
   ]
  },
  {
   "cell_type": "code",
   "execution_count": 116,
   "metadata": {},
   "outputs": [
    {
     "data": {
      "text/plain": [
       "{'data': {'updated_at': '2022-04-09T01:47:11.928585165Z',\n",
       "  'items': [],\n",
       "  'pagination': {'has_more': False,\n",
       "   'page_number': 1,\n",
       "   'page_size': 1000,\n",
       "   'total_count': 1000}},\n",
       " 'error': False,\n",
       " 'error_message': None,\n",
       " 'error_code': None}"
      ]
     },
     "execution_count": 116,
     "metadata": {},
     "output_type": "execute_result"
    }
   ],
   "source": [
    "json_data"
   ]
  },
  {
   "cell_type": "code",
   "execution_count": null,
   "metadata": {},
   "outputs": [],
   "source": []
  }
 ],
 "metadata": {
  "kernelspec": {
   "display_name": "Python [conda env:py3] *",
   "language": "python",
   "name": "conda-env-py3-py"
  },
  "language_info": {
   "codemirror_mode": {
    "name": "ipython",
    "version": 3
   },
   "file_extension": ".py",
   "mimetype": "text/x-python",
   "name": "python",
   "nbconvert_exporter": "python",
   "pygments_lexer": "ipython3",
   "version": "3.8.5"
  }
 },
 "nbformat": 4,
 "nbformat_minor": 4
}
